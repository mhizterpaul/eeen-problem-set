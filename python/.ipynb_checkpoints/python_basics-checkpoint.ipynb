{
 "cells": [
  {
   "cell_type": "code",
   "execution_count": 7,
   "id": "caec9f24",
   "metadata": {},
   "outputs": [
    {
     "ename": "SyntaxError",
     "evalue": "invalid syntax (397652857.py, line 2)",
     "output_type": "error",
     "traceback": [
      "\u001b[1;36m  Cell \u001b[1;32mIn[7], line 2\u001b[1;36m\u001b[0m\n\u001b[1;33m    string = new str('hello');\u001b[0m\n\u001b[1;37m                 ^\u001b[0m\n\u001b[1;31mSyntaxError\u001b[0m\u001b[1;31m:\u001b[0m invalid syntax\n"
     ]
    }
   ],
   "source": [
    "# Write a program that IDLE won’t run because it has a syntax error.\n",
    "\n",
    "string = new str('hello');"
   ]
  },
  {
   "cell_type": "code",
   "execution_count": 10,
   "id": "791c68b9",
   "metadata": {},
   "outputs": [
    {
     "ename": "TypeError",
     "evalue": "unhashable type: 'list'",
     "output_type": "error",
     "traceback": [
      "\u001b[1;31m---------------------------------------------------------------------------\u001b[0m",
      "\u001b[1;31mTypeError\u001b[0m                                 Traceback (most recent call last)",
      "Cell \u001b[1;32mIn[10], line 7\u001b[0m\n\u001b[0;32m      4\u001b[0m     var \u001b[38;5;241m=\u001b[39m {[\u001b[38;5;241m1\u001b[39m,\u001b[38;5;241m3\u001b[39m,\u001b[38;5;241m4\u001b[39m], \u001b[38;5;124m'\u001b[39m\u001b[38;5;124mj\u001b[39m\u001b[38;5;124m'\u001b[39m}\n\u001b[0;32m      5\u001b[0m     \u001b[38;5;28;01mreturn\u001b[39;00m var\n\u001b[1;32m----> 7\u001b[0m \u001b[43mruntimeErr\u001b[49m\u001b[43m(\u001b[49m\u001b[43m)\u001b[49m\n",
      "Cell \u001b[1;32mIn[10], line 4\u001b[0m, in \u001b[0;36mruntimeErr\u001b[1;34m()\u001b[0m\n\u001b[0;32m      3\u001b[0m \u001b[38;5;28;01mdef\u001b[39;00m \u001b[38;5;21mruntimeErr\u001b[39m():\n\u001b[1;32m----> 4\u001b[0m     var \u001b[38;5;241m=\u001b[39m {[\u001b[38;5;241m1\u001b[39m,\u001b[38;5;241m3\u001b[39m,\u001b[38;5;241m4\u001b[39m], \u001b[38;5;124m'\u001b[39m\u001b[38;5;124mj\u001b[39m\u001b[38;5;124m'\u001b[39m}\n\u001b[0;32m      5\u001b[0m     \u001b[38;5;28;01mreturn\u001b[39;00m var\n",
      "\u001b[1;31mTypeError\u001b[0m: unhashable type: 'list'"
     ]
    }
   ],
   "source": [
    "# Write a program that crashes only while it’s running because it has\n",
    "#a runtime error.\n",
    "\n",
    "def runtimeErr():\n",
    "    var = {[1,3,4], 'j'}\n",
    "    return var\n",
    "\n",
    "runtimeErr()"
   ]
  },
  {
   "cell_type": "code",
   "execution_count": 3,
   "id": "94dd4853",
   "metadata": {},
   "outputs": [
    {
     "name": "stdout",
     "output_type": "stream",
     "text": [
      "hello from python\n"
     ]
    }
   ],
   "source": [
    "# 1. Using the interactive window, display some text using print().\n",
    "\n",
    "!py -c 'print(\"hello from python\")' #-i\n",
    "\n",
    "# 2. Using the interactive window, assign a string literal to a variable.\n",
    "#Then print the contents of the variable using the print() function.\n",
    "\n",
    "!py -c \"string = 'some string'\" #-i\n",
    "\n",
    "# 3. Repeat the first two exercises using the editor window.\n",
    "\n",
    "print('hello from python')\n",
    "string = 'some string'"
   ]
  },
  {
   "cell_type": "code",
   "execution_count": 8,
   "id": "3b2e4c3c",
   "metadata": {},
   "outputs": [
    {
     "name": "stdout",
     "output_type": "stream",
     "text": [
      "some \"str\"ing\n",
      "some !string\n",
      "this is some very \n",
      "long string that will span multiple lines\n",
      "and preserve newline characters\n",
      "some string that continues on another line but printed on a single line\n"
     ]
    }
   ],
   "source": [
    "# 1. Print a string that uses double quotation marks inside the string.\n",
    "\n",
    "string1 = 'some \"str\"ing'\n",
    "print(string1)\n",
    "\n",
    "# 2. Print a string that uses an apostrophe inside the string.\n",
    "\n",
    "string2 = 'some !string'\n",
    "print(string2)\n",
    "\n",
    "# 3. Print a string that spans multiple lines with whitespace preserved.\n",
    "\n",
    "string3 = '''this is some very \n",
    "long string that will span multiple lines\n",
    "and preserve newline characters'''\n",
    "print(string3)\n",
    "\n",
    "# 4. Print a string that is coded on multiple lines but gets printed on a\n",
    "# single line.\n",
    "\n",
    "string4 = 'some string \\\n",
    "that continues on another line but printed \\\n",
    "on a single line'\n",
    "print(string4)\n",
    "\n"
   ]
  },
  {
   "cell_type": "code",
   "execution_count": 11,
   "id": "2882afb2",
   "metadata": {},
   "outputs": [
    {
     "name": "stdout",
     "output_type": "stream",
     "text": [
      "11\n",
      "another stringaddendable string\n",
      "another string addendable string\n",
      "zinga\n"
     ]
    }
   ],
   "source": [
    "#1. Create a string and print its length using len().\n",
    "string = 'some string'\n",
    "print(len(string))\n",
    "\n",
    "#2. Create two strings, concatenate them, and print the resulting\n",
    "#string.\n",
    "\n",
    "string1 = 'another string'\n",
    "string2 = 'addendable string'\n",
    "str1_cat_str2 = string1 + string2;\n",
    "print(str1_cat_str2)\n",
    "\n",
    "#3. Create two strings, use concatenation to add a space between them,\n",
    "#and print the result.\n",
    "print(string1 + ' ' + string2)\n",
    "\n",
    "#4. Print the string \"zing\" by using slice notation to specify the correct\n",
    "#range of characters in the string \"bazinga\".\n",
    "print('bazinga'[2:])"
   ]
  },
  {
   "cell_type": "code",
   "execution_count": 18,
   "id": "f577a6d9",
   "metadata": {},
   "outputs": [
    {
     "name": "stdout",
     "output_type": "stream",
     "text": [
      "animals\n",
      "badger\n",
      "honey bee\n",
      "honey badger\n",
      "ANIMALS\n",
      "BADGER\n",
      "HONEY BEE\n",
      "HONEY BADGER\n",
      "FiletMignon\n",
      "Brisket\n",
      "Cheeseburger\n",
      "False\n",
      "True\n",
      "False\n",
      "False\n",
      "True\n",
      "True\n",
      "True\n",
      "True\n"
     ]
    }
   ],
   "source": [
    "# 1. Write a program that converts the following strings to lowercase:\n",
    "# \"Animals\", \"Badger\", \"Honey Bee\", \"Honey Badger\". Print each lowercase\n",
    "# string on a separate line.\n",
    "\n",
    "strings = [\"Animals\", \"Badger\", \"Honey Bee\", \"Honey Badger\"]\n",
    "def transformStr(type):\n",
    "    for string in strings:\n",
    "        transformed_string = string.lower() if type == 'lower'\\\n",
    "             else string.upper() \n",
    "        print(transformed_string)\n",
    "\n",
    "transformStr('lower')\n",
    "\n",
    "# 2. Repeat exercise 1, but convert each string to uppercase instead of\n",
    "# lowercase.\n",
    "\n",
    "transformStr('upper')\n",
    "\n",
    "# 3. Write a program that removes whitespace from the following\n",
    "# strings, then print out the strings with the whitespace removed:\n",
    "# string1 = \" Filet Mignon\"\n",
    "# string2 = \"Brisket \"\n",
    "# string3 = \" Cheeseburger \"\n",
    "\n",
    "for string in [\" Filet Mignon\", \"Brisket \", \" Cheeseburger \"]:\n",
    "    print(string.replace(' ', ''))\n",
    "    \n",
    "# 4. Write a program that prints out the result of .startswith(\"be\") on\n",
    "# each of the following strings:\n",
    "# string1 = \"Becomes\"\n",
    "# string2 = \"becomes\"\n",
    "# string3 = \"BEAR\"\n",
    "# string4 = \" bEautiful\"\n",
    "\n",
    "strings = [\"Becomes\", \"becomes\", \"BEAR\", \" bEautiful\"]\n",
    "for string in strings:\n",
    "    print(string.startswith(\"be\"))\n",
    "    \n",
    "# 5. Using the same four strings from exercise 4, write a program that\n",
    "# uses string methods to alter each string so that .startswith(\"be\")\n",
    "# returns True for all of them.\n",
    "\n",
    "for string in strings:\n",
    "    string = 'be' + string[2:]\n",
    "    print(string.startswith('be'))\n"
   ]
  },
  {
   "cell_type": "code",
   "execution_count": 1,
   "id": "58df3f20",
   "metadata": {},
   "outputs": [
    {
     "name": "stdout",
     "output_type": "stream",
     "text": [
      "enter a string: some string\n",
      "some string\n",
      "enter any string in uppercase: SOME STRING\n",
      "some string\n",
      "enter a string: some string\n",
      "11\n"
     ]
    }
   ],
   "source": [
    "# 1. Write a program that takes input from the user and displays that\n",
    "# input back.\n",
    "\n",
    "usr_input = input(\"enter a string: \")\n",
    "print(usr_input)\n",
    "\n",
    "# 2. Write a program that takes input from the user and displays the\n",
    "# input in lowercase.\n",
    "\n",
    "usr_input_lower = input(\"enter any string in uppercase: \")\n",
    "print(usr_input_lower.lower())\n",
    "\n",
    "# 3. Write a program that takes input from the user and displays the\n",
    "# number of characters in the input.\n",
    "\n",
    "usr_input_len = input(\"enter a string: \")\n",
    "print(len(usr_input_len))"
   ]
  },
  {
   "cell_type": "code",
   "execution_count": 2,
   "id": "5fc6b0f2",
   "metadata": {},
   "outputs": [
    {
     "name": "stdout",
     "output_type": "stream",
     "text": [
      "1242\n",
      "1240.259\n",
      "txt 23\n",
      "838\n",
      "3838\n",
      "The product of 838 and 3838 is 3216244.0\n"
     ]
    }
   ],
   "source": [
    "# 1. Create a string containing an integer, then convert that string into\n",
    "# an actual integer object using int(). Test that your new object is\n",
    "# a number by multiplying it by another number and displaying the\n",
    "# result.\n",
    "\n",
    "str_int = '54'\n",
    "print(int(str_int)*23)\n",
    "\n",
    "# 2. Repeat the previous exercise, but use a floating-point number and\n",
    "# float().\n",
    "\n",
    "str_flt = '53.23'\n",
    "print(float(str_flt)*23.3)\n",
    "\n",
    "# 3. Create a string object and an integer object, then display them side\n",
    "# by side with a single print statement using str().\n",
    "\n",
    "str_obj = 'txt'\n",
    "int_obj = 23\n",
    "print(str_obj + \" \" + str(int_obj))\n",
    "\n",
    "# 4. Write a program that uses input() twice to get two numbers from\n",
    "# the user, multiplies the numbers together, and displays the result.\n",
    "# If the user enters 2 and 4, then your program should print the\n",
    "# following text:\n",
    "# The product of 2 and 4 is 8.0.\n",
    "\n",
    "multiplicand = input()\n",
    "multiplier = input()\n",
    "res = float(multiplicand) * float(multiplier)\n",
    "print(f'The product of {multiplicand} and {multiplier} is {res}')"
   ]
  },
  {
   "cell_type": "code",
   "execution_count": 30,
   "id": "7a4eecfd",
   "metadata": {},
   "outputs": [
    {
     "name": "stdout",
     "output_type": "stream",
     "text": [
      "0.2 is the weight of the newt\n",
      "0.2 is the weight of the newt\n",
      "0.2 is the weight of the newt\n"
     ]
    }
   ],
   "source": [
    "# 1. Create a float object named weight with the value 0.2, and create\n",
    "# a string object named animal with the value \"newt\". Then use these\n",
    "# objects to print the following string using only string concatenation:\n",
    "# 0.2 kg is the weight of the newt.\n",
    "\n",
    "weight = 0.2\n",
    "animal = 'newt'\n",
    "print(str(weight) + ' is the weight of the ' + animal)\n",
    "\n",
    "# 2. Display the same string by using .format() and empty {} placeholders.\n",
    "\n",
    "print('{} is the weight of the {}'.format(weight, animal))\n",
    "\n",
    "# 3. Display the same string using an f-string.\n",
    "\n",
    "print(f'{weight} is the weight of the {animal}')"
   ]
  }
 ],
 "metadata": {
  "kernelspec": {
   "display_name": "Python 3 (ipykernel)",
   "language": "python",
   "name": "python3"
  },
  "language_info": {
   "codemirror_mode": {
    "name": "ipython",
    "version": 3
   },
   "file_extension": ".py",
   "mimetype": "text/x-python",
   "name": "python",
   "nbconvert_exporter": "python",
   "pygments_lexer": "ipython3",
   "version": "3.10.9"
  }
 },
 "nbformat": 4,
 "nbformat_minor": 5
}
