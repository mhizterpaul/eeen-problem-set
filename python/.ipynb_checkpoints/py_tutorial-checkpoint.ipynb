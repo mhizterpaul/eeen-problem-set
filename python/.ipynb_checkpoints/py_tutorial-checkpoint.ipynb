{
 "cells": [
  {
   "cell_type": "code",
   "execution_count": 1,
   "id": "05a0e173",
   "metadata": {},
   "outputs": [
    {
     "name": "stdout",
     "output_type": "stream",
     "text": [
      "I'm happy\n",
      "I'm happy\n"
     ]
    }
   ],
   "source": [
    "# Exercise 1.5.1.1. Figure out how to give Python the string containing the text: I’m happy. Try it.\n",
    "# If you got an error, try it with another type of quotes, and figure out why that one works and not the first.\n",
    "\n",
    "print('I\\'m happy') #this works\n",
    "print(\"I'm happy\") #this also works\n",
    "\n",
    "#print('I'm happy') #this line will error out as the second delimeter (') signifies the end of the string  "
   ]
  },
  {
   "cell_type": "code",
   "execution_count": 2,
   "id": "86eed65f",
   "metadata": {},
   "outputs": [
    {
     "name": "stdout",
     "output_type": "stream",
     "text": [
      "YesYesYesYesYes\n",
      "MaybeMaybeMaybeYesYesYesYesYes\n"
     ]
    }
   ],
   "source": [
    "# Exercise 1.5.2.1. Figure out a compact way to get Python to make the string, “YesYesYesYesYes”,\n",
    "# and try it. How about “MaybeMaybeMaybeYesYesYesYesYes” ?\n",
    "\n",
    "five_yeses = \"Yes\"*5\n",
    "print(five_yeses)\n",
    "print((\"Maybe\"*3) + five_yeses)"
   ]
  },
  {
   "cell_type": "code",
   "execution_count": 5,
   "id": "c3259676",
   "metadata": {},
   "outputs": [
    {
     "name": "stdout",
     "output_type": "stream",
     "text": [
      "Enter an integer: 1\n",
      "Enter another integer: 1\n",
      "Enter yet another integer: 1\n",
      "The sum of 1 1 and 1 is 3 .\n"
     ]
    }
   ],
   "source": [
    "# x = int(input(\"Enter an integer: \"))\n",
    "# y = int(input(\"Enter another integer: \"))\n",
    "# sum = x + y\n",
    "# print(’The sum of ’, x, ’ and ’, y, ’ is ’, sum, ’.’, sep=’’)\n",
    "# Exercise 1.10.3.1. * Write a version, add3.py, that asks for three numbers, and lists all three, and\n",
    "# their sum, in similar format to the example above.\n",
    "\n",
    "x = int(input(\"Enter an integer: \"))\n",
    "y = int(input(\"Enter another integer: \"))\n",
    "z = int(input(\"Enter yet another integer: \"))\n",
    "sum = x + y + z\n",
    "print('The sum of', x, y,'and', z, 'is', sum, '.', sep=' ')"
   ]
  },
  {
   "cell_type": "code",
   "execution_count": 7,
   "id": "cc9ba3ed",
   "metadata": {},
   "outputs": [
    {
     "name": "stdout",
     "output_type": "stream",
     "text": [
      "Enter an integer: 3\n",
      "Enter another integer: 2\n",
      "The quotient of 3 and 2 is 1 with a remainder of 1\n"
     ]
    }
   ],
   "source": [
    "# Exercise 1.10.3.2. * a. Write a program, quotient.py, that prompts the user for two integers, and\n",
    "# then prints them out in a sentence with an integer division problem like \"The quotient of 14 and 3 is\n",
    "# 4 with a remainder of 2\". Review Section 1.4.3 if you forget the integer division or remainder operator.\n",
    "\n",
    "x = int(input(\"Enter an integer: \"))\n",
    "y = int(input(\"Enter another integer: \"))\n",
    "print(f'The quotient of {x} and {y} is {int(x/y)} with a remainder of {x%y}')"
   ]
  },
  {
   "cell_type": "code",
   "execution_count": 8,
   "id": "557a07c5",
   "metadata": {},
   "outputs": [
    {
     "name": "stdout",
     "output_type": "stream",
     "text": [
      "Enter an integer: 2\n",
      "Enter another integer: 2\n",
      "Enter yet another integer: 2\n",
      "The sum of 2 2 and 2 is 6 .\n"
     ]
    }
   ],
   "source": [
    "# Exercise 1.10.4.1.  Write a version of Exercise 1.10.3.1, add3f.py, that uses the string format method\n",
    "# to construct the final string.\n",
    "\n",
    "x = int(input(\"Enter an integer: \"))\n",
    "y = int(input(\"Enter another integer: \"))\n",
    "z = int(input(\"Enter yet another integer: \"))\n",
    "sum = x + y + z\n",
    "print(f'The sum of {x} {y} and {z} is {sum} .')"
   ]
  },
  {
   "cell_type": "code",
   "execution_count": 11,
   "id": "93d494ba",
   "metadata": {
    "scrolled": true
   },
   "outputs": [
    {
     "name": "stdout",
     "output_type": "stream",
     "text": [
      "Enter an integer: 1\n",
      "Enter another integer: 2\n",
      "The quotient of 1 and 2 is 0 with a remainder of 1\n"
     ]
    }
   ],
   "source": [
    "# Exercise 1.10.4.2. * Write a version of Exercise 1.10.3.2, quotientformat.py, that uses the string\n",
    "# format method to construct the final string.\n",
    "\n",
    "x = int(input(\"Enter an integer: \"))\n",
    "y = int(input(\"Enter another integer: \"))\n",
    "print('The quotient of {} and {} is {} with a remainder of {}'.format(x,y,int(x/y), x%y))"
   ]
  },
  {
   "cell_type": "code",
   "execution_count": 13,
   "id": "bc86fb18",
   "metadata": {},
   "outputs": [
    {
     "name": "stdout",
     "output_type": "stream",
     "text": [
      "\n",
      "Learning Python, with NumPy's might,\n",
      "In the realm of pandas, under data science's light.\n",
      "From MATLAB's domain, to Express.js' ride,\n",
      "In the command line, where commands coincide.\n",
      "\n",
      "Documentation blooms, like a tree in spring,\n",
      "In the world of code, where developers sing.\n",
      "In the echo of the shell, in the bytes that flow,\n",
      "In the heart of the code, where ideas grow.\n",
      "\n",
      "\n",
      "Learning Python, with NumPy's might,\n",
      "In the realm of pandas, under data science's light.\n",
      "From MATLAB's domain, to Express.js' ride,\n",
      "In the command line, where commands coincide.\n",
      "\n",
      "Documentation blooms, like a tree in spring,\n",
      "In the world of code, where developers sing.\n",
      "In the echo of the shell, in the bytes that flow,\n",
      "In the heart of the code, where ideas grow.\n",
      "\n",
      "\n",
      "Learning Python, with NumPy's might,\n",
      "In the realm of pandas, under data science's light.\n",
      "From MATLAB's domain, to Express.js' ride,\n",
      "In the command line, where commands coincide.\n",
      "\n",
      "Documentation blooms, like a tree in spring,\n",
      "In the world of code, where developers sing.\n",
      "In the echo of the shell, in the bytes that flow,\n",
      "In the heart of the code, where ideas grow.\n",
      "\n"
     ]
    }
   ],
   "source": [
    "# Exercise 1.11.3.1. * Write a program, poem.py, that defines a function that prints a short poem or\n",
    "# song verse. Give a meaningful name to the function. Have the program end by calling the function three\n",
    "# times, so the poem or verse is repeated three times.\n",
    "\n",
    "def poem():\n",
    "    print('''\\nLearning Python, with NumPy's might,\n",
    "In the realm of pandas, under data science's light.\n",
    "From MATLAB's domain, to Express.js' ride,\n",
    "In the command line, where commands coincide.\n",
    "\n",
    "Documentation blooms, like a tree in spring,\n",
    "In the world of code, where developers sing.\n",
    "In the echo of the shell, in the bytes that flow,\n",
    "In the heart of the code, where ideas grow.\\n''')\n",
    "    \n",
    "poem()\n",
    "poem()\n",
    "poem()"
   ]
  },
  {
   "cell_type": "code",
   "execution_count": 14,
   "id": "e5a9854c",
   "metadata": {},
   "outputs": [
    {
     "name": "stdout",
     "output_type": "stream",
     "text": [
      "Happy Birthday to you!\n",
      "Happy Birthday to you!\n",
      "Happy Birthday, dear Emily.\n",
      "Happy Birthday to you!\n",
      "\n",
      "Happy Birthday to you!\n",
      "Happy Birthday to you!\n",
      "Happy Birthday, dear Andre.\n",
      "Happy Birthday to you!\n",
      "\n",
      "Happy Birthday to you!\n",
      "Happy Birthday to you!\n",
      "Happy Birthday, dear Maria.\n",
      "Happy Birthday to you!\n",
      "\n"
     ]
    }
   ],
   "source": [
    "# def happyBirthday(person):\n",
    "# print(\"Happy Birthday to you!\")\n",
    "# print(\"Happy Birthday to you!\")\n",
    "# print(\"Happy Birthday, dear \" + person + \".\")\n",
    "# print(\"Happy Birthday to you!\")\n",
    "# def main():\n",
    "# happyBirthday(’Emily’)\n",
    "# happyBirthday(’Andre’)\n",
    "# main()\n",
    "# Exercise 1.11.4.1. * Make your own further change to the file and save it as birthdayMany.py: Add a\n",
    "# function call, so Maria gets a verse, in addition to Emily and Andre. Also print a blank line between verses.\n",
    "# (You may either do this by adding a print line to the function definition, or by adding a print line between\n",
    "# all calls to the function.)\n",
    "\n",
    "def happyBirthday(person):\n",
    "    print(\"Happy Birthday to you!\")\n",
    "    print(\"Happy Birthday to you!\")\n",
    "    print(\"Happy Birthday, dear \" + person + \".\")\n",
    "    print(\"Happy Birthday to you!\\n\")\n",
    "\n",
    "def main():\n",
    "    happyBirthday('Emily')\n",
    "    happyBirthday('Andre')\n",
    "    happyBirthday('Maria')\n",
    "\n",
    "main()\n"
   ]
  },
  {
   "cell_type": "code",
   "execution_count": 16,
   "id": "77b10905",
   "metadata": {},
   "outputs": [
    {
     "name": "stdout",
     "output_type": "stream",
     "text": [
      "The quotient of 2 and 3 is 0 with a remainder of 2\n",
      "The quotient of 1234567890123 and 535790269358 is 2 with a remainder of 162987351407\n",
      "Enter an integer: 33\n",
      "Enter another integer: 4\n",
      "The quotient of 33 and 4 is 8 with a remainder of 1\n"
     ]
    }
   ],
   "source": [
    "# def sumProblem(x, y):\n",
    "# sum = x + y\n",
    "# print(’The sum of ’, x, ’ and ’, y, ’ is ’, sum, ’.’, sep=’’)\n",
    "# def main():\n",
    "# sumProblem(2, 3)\n",
    "# sumProblem(1234567890123, 535790269358)\n",
    "# a = int(input(\"Enter an integer: \"))\n",
    "# b = int(input(\"Enter another integer: \"))\n",
    "# sumProblem(a, b)\n",
    "# main()\n",
    "# Exercise 1.11.5.1. ’* Modify the program above and save it as quotientProb.py. The new program\n",
    "# should have a quotientProblem function, printing as in the Exercise 1.10.3.2. The main method should test\n",
    "# the function on several sets of literal values, and also test the function with input from the user.\n",
    "\n",
    "def quotientProblem(x, y):\n",
    "    print(f'The quotient of {x} and {y} is {int(x/y)} with a remainder of {x%y}')\n",
    "    \n",
    "def main():\n",
    "    quotientProblem(2, 3)\n",
    "    quotientProblem(1234567890123, 535790269358)\n",
    "    a = int(input(\"Enter an integer: \"))\n",
    "    b = int(input(\"Enter another integer: \"))\n",
    "    quotientProblem(a, b)\n",
    "main()"
   ]
  },
  {
   "cell_type": "code",
   "execution_count": 18,
   "id": "6155475e",
   "metadata": {},
   "outputs": [
    {
     "name": "stdout",
     "output_type": "stream",
     "text": [
      "The quotient of 2 and 3 is 0 with a remainder of 2\n",
      "The quotient of 1234567890123 and 535790269358 is 2 with a remainder of 162987351407\n",
      "Enter an integer: 2\n",
      "Enter another integer: 3\n",
      "The quotient of 2 and 3 is 0 with a remainder of 2\n"
     ]
    }
   ],
   "source": [
    "# Exercise 1.11.6.1. Create quotientReturn.py by modifying quotientProb.py from Exercise 1.11.5.1 so\n",
    "# that the program accomplishes the same thing, but everywhere change the quotientProblem function into\n",
    "# one called quotientString that merely returns the string rather than printing the string directly. Have the\n",
    "# main function print the result of each call to the quotientString function.\n",
    "\n",
    "def quotientProblem(x, y):\n",
    "    f_string = f'The quotient of {x} and {y} is {int(x/y)} with a remainder of {x%y}'\n",
    "    return f_string\n",
    "def main():\n",
    "    print(quotientProblem(2, 3))\n",
    "    print(quotientProblem(1234567890123, 535790269358))\n",
    "    a = int(input(\"Enter an integer: \"))\n",
    "    b = int(input(\"Enter another integer: \"))\n",
    "    print(quotientProblem(a, b))\n",
    "    \n",
    "main()\n"
   ]
  },
  {
   "cell_type": "code",
   "execution_count": 21,
   "id": "eb24533c",
   "metadata": {},
   "outputs": [
    {
     "name": "stdout",
     "output_type": "stream",
     "text": [
      "1 2 3 4\n"
     ]
    }
   ],
   "source": [
    "# Exercise 1.12.1.1. * Write a tiny Python program numDict.py that makes a dictionary whose keys\n",
    "# are the words ’one’, ’two’, ’three’, and ’four’, and whose corresponding values are the numerical equivalents,\n",
    "# 1, 2, 3, and 4 (ints, not strings). Include code to test the resulting dictionary by referencing several of the\n",
    "# definitions and printing the results.\n",
    "\n",
    "\n",
    "numDict = {\n",
    "    'one': 1,\n",
    "    'two': 2,\n",
    "    'three': 3,\n",
    "    'four': 4\n",
    "}\n",
    "\n",
    "print(numDict['one'],\n",
    "    numDict['two'],\n",
    "    numDict['three'],\n",
    "    numDict['four'])"
   ]
  },
  {
   "cell_type": "code",
   "execution_count": 46,
   "id": "4190eff2",
   "metadata": {},
   "outputs": [
    {
     "name": "stdout",
     "output_type": "stream",
     "text": [
      "Enter an example for city: lagos\n",
      "Enter an example for name: paul\n",
      "Enter an example for food: yam\n",
      "Enter an example for artifact: anything\n",
      "Enter an example for animal: monkey\n",
      "Enter an example for natural_phenomenon: tornado\n",
      "Enter an example for place: london\n",
      "\n",
      "In the bustling city of lagos, there was a renowned detective named paul. \n",
      "This detective had a peculiar habit of eating yam while pondering over their cases. \n",
      "One day, a mysterious case came to paul. The city's precious artifact, the anything, \n",
      "had been stolen from the city museum. The only clue was a monkey seen near the museum at the time of the theft.\n",
      "\n",
      "paul started the investigation, their mind whirling like a tornado. \n",
      "After days of tireless work and countless yam, the detective managed to narrow down the location of the thief's hideout. \n",
      "In a dramatic confrontation at the london, paul outwitted the thief and recovered the anything. \n",
      "\n",
      "The city rejoiced, and paul went back to their yam, ready for the next case. \n",
      "The End\n",
      "\n",
      "Press Enter to end the program.\n"
     ]
    },
    {
     "data": {
      "text/plain": [
       "''"
      ]
     },
     "execution_count": 46,
     "metadata": {},
     "output_type": "execute_result"
    }
   ],
   "source": [
    "# Exercise 1.12.2.1. To confirm your better understanding of madlib.py, load it in the editor, rename\n",
    "# it as myMadlib.py, and modify it to have a less lame story, with more and different entries in the dictionary.\n",
    "# Make sure addPick is called for each key in your format string. Test your version.\n",
    "\n",
    "storyFormat = \"\"\"\n",
    "In the bustling city of {city}, there was a renowned detective named {name}. \n",
    "This detective had a peculiar habit of eating {food} while pondering over their cases. \n",
    "One day, a mysterious case came to {name}. The city's precious artifact, the {artifact}, \n",
    "had been stolen from the city museum. The only clue was a {animal} seen near the museum at the time of the theft.\n",
    "\n",
    "{name} started the investigation, their mind whirling like a {natural_phenomenon}. \n",
    "After days of tireless work and countless {food}, the detective managed to narrow down the location of the thief's hideout. \n",
    "In a dramatic confrontation at the {place}, {name} outwitted the thief and recovered the {artifact}. \n",
    "\n",
    "The city rejoiced, and {name} went back to their {food}, ready for the next case. \n",
    "The End\n",
    "\"\"\"\n",
    "\n",
    "def tellStory(): \n",
    "    userPicks = dict() \n",
    "    addPick('city', userPicks)\n",
    "    addPick('name', userPicks)\n",
    "    addPick('food', userPicks)\n",
    "    addPick('artifact', userPicks)\n",
    "    addPick('animal', userPicks)\n",
    "    addPick('natural_phenomenon', userPicks)\n",
    "    addPick('place', userPicks)\n",
    "    story = storyFormat.format(**userPicks) \n",
    "    print(story) \n",
    "\n",
    "def addPick(cue, dictionary): \n",
    "    prompt = 'Enter an example for ' + cue + ': ' \n",
    "    response = input(prompt) \n",
    "    dictionary[cue] = response \n",
    "\n",
    "tellStory()\n",
    "input(\"Press Enter to end the program.\")\n"
   ]
  },
  {
   "cell_type": "code",
   "execution_count": 27,
   "id": "95d5e3e1",
   "metadata": {
    "scrolled": true
   },
   "outputs": [
    {
     "name": "stdout",
     "output_type": "stream",
     "text": [
      "4\n",
      "41.3\n",
      "0\n",
      "0\n"
     ]
    }
   ],
   "source": [
    "# def sumList(nums): #1\n",
    "# ’’’Return the sum of the numbers in nums.’’’\n",
    "# sum = 0 #2\n",
    "# for num in nums: #3\n",
    "# sum = sum + num #4\n",
    "# return sum #5\n",
    "# Exercise 1.13.7.2.  Write a program testSumList.py which includes a main function to test the\n",
    "# sumList function several times. Include a test for the extreme case, with an empty list.\n",
    "\n",
    "def sumList(nums): \n",
    "    '''Return the sum of the numbers in nums.'''\n",
    "    sum = 0 \n",
    "    for num in nums: \n",
    "        sum = sum + num \n",
    "    return sum \n",
    "\n",
    "def main():\n",
    "    print(sumList([1,3]))\n",
    "    print(sumList([1,2.3,34,4]))\n",
    "    print(sumList([]))\n",
    "    print(sumList([0]))\n",
    "\n",
    "main()"
   ]
  },
  {
   "cell_type": "code",
   "execution_count": 38,
   "id": "e14c857a",
   "metadata": {},
   "outputs": [
    {
     "name": "stdout",
     "output_type": "stream",
     "text": [
      "enter the product price:3343\n",
      "enter the product percentage discount:43\n",
      "1905.51\n"
     ]
    }
   ],
   "source": [
    "# Exercise 1.14.3.1. * Write a program, discount.py, that prompts the user for an original price and\n",
    "# for a discount percentage and prints out the new price to the nearest cent. For example if the user enters\n",
    "# 2.89 for the price and 20 for the discount percentage, the value would be (1- 20/100)*2.89, rounded to two\n",
    "# decimal places, 2.31. For price .65 with a 25 percent discount, the value would be (1- 25/100)*.65, rounded\n",
    "# to two decimal places, .49. Write the general calculation code following the pattern of the calculations\n",
    "# illustrated in the two concrete examples.\n",
    "\n",
    "def discount():\n",
    "    price = input('enter the product price: ')\n",
    "    percent = input('enter the product percentage discount: ')\n",
    "    newPrice = (1-float(percent)/100)*float(price)\n",
    "    print(round(newPrice, 2))\n",
    "    \n",
    "discount()"
   ]
  },
  {
   "cell_type": "code",
   "execution_count": 34,
   "id": "930a5437",
   "metadata": {},
   "outputs": [
    {
     "name": "stdout",
     "output_type": "stream",
     "text": [
      "enter a phrase with whitespace(s): me and you\n",
      "me_and_you\n"
     ]
    }
   ],
   "source": [
    "# Exercise 2.1.6.1. * Write a program underscores.py that would input a phrase from the user and\n",
    "# print out the phrase with the white space between words replaced by an underscore. For instance if the input\n",
    "# is \"the best one\", then it would print \"the_best_one\". The conversion can be done in one or two statements\n",
    "# using the recent string methods.\n",
    "\n",
    "phrase = input('enter a phrase with whitespace(s): ')\n",
    "print(phrase.replace(' ', '_'))"
   ]
  },
  {
   "cell_type": "code",
   "execution_count": 40,
   "id": "5a87b863",
   "metadata": {},
   "outputs": [
    {
     "name": "stdout",
     "output_type": "stream",
     "text": [
      "enter a phrase:some names dont lie\n",
      "SNDL\n"
     ]
    }
   ],
   "source": [
    "# Exercise 2.1.6.2. ** An acronym is a string of capital letters formed by taking the first letters from\n",
    "# a phrase. For example, SADD is an acronym for ’students against drunk driving’. Note that the acronym\n",
    "# should be composed of all capital letters even if the original words are not. Write a program acronym.py\n",
    "# that has the user input a phrase and then prints the corresponding acronym.\n",
    "\n",
    "phrase = input('enter a phrase: ')\n",
    "strings = phrase.split(' ')\n",
    "acronym = ''\n",
    "for index, string in enumerate(strings):\n",
    "    acronym += string[:1].upper()\n",
    "\n",
    "print(acronym)\n",
    "\n",
    "    "
   ]
  },
  {
   "cell_type": "code",
   "execution_count": 44,
   "id": "9f374f11",
   "metadata": {},
   "outputs": [
    {
     "name": "stdout",
     "output_type": "stream",
     "text": [
      "please enter a range:32\n",
      "[26, 18, 11, 5, 29]\n"
     ]
    }
   ],
   "source": [
    "# Exercise 2.4.12.1. * Write a program ranges.py that uses the range function to produce the sequnce\n",
    "# 1, 2, 3, 4, and then print it. Also prompt the user for an integer n and print the sequnce 1, 2, 3, ... , n –\n",
    "# including n. Hint: Finally use a simple repeat loop to find and print five randomly chosen numbers from\n",
    "# the range 1, 2, 3, ... , n .\n",
    "import random\n",
    "\n",
    "_input = input('please enter a range: ')\n",
    "_range = range(int(_input)+1)\n",
    "randrange = []\n",
    "while len(randrange)<5:\n",
    "    _randint = random.randint(0, len(_range)-1)\n",
    "    randrange.append(_range[_randint])\n",
    "\n",
    "print(randrange);\n",
    "    "
   ]
  },
  {
   "cell_type": "code",
   "execution_count": 47,
   "id": "627f81de",
   "metadata": {},
   "outputs": [
    {
     "name": "stdout",
     "output_type": "stream",
     "text": [
      "please enter name of storyfile: jungle.txt\n",
      "Enter an example for animal: ape\n",
      "Enter an example for city: laos\n",
      "Enter an example for food: beans\n",
      "Once upon a time, deep in an ancient jungle, \n",
      "there lived a ape. This ape \n",
      "liked to eat beans, but the jungle had \n",
      "very little beans to offer. One day, an \n",
      "explorer found the ape and discovered \n",
      "it liked beans. The explorer took the \n",
      "ape back to laos, where it could \n",
      "eat as much beans as it wanted. However, \n",
      "the ape became homesick, so the \n",
      "explorer brought it back to the jungle, \n",
      "leaving a large supply of beans. \n",
      "\n",
      "The End \n"
     ]
    }
   ],
   "source": [
    "# Exercise 2.5.0.3. Write madlib3.py, a small modification of madlib2.py, requiring only a modification\n",
    "# to the main function of madlib2.py. Your madlib3.py should prompt the user for the name of a file that\n",
    "# should contain a madlib format string as text (with no quotes around it). Read in this file and use it as the\n",
    "# format string in the tellStory function. This is unlike in madlib2.py, where the story is a literal string\n",
    "# coded directly into the program called originalStory. The tellstory function and particularly the getKeys\n",
    "# function were developed and described in detail in this tutorial, but for this exercise there is no need to\n",
    "# follow their inner workings - you are just a user of the tellstory function (and the functions that it calls).\n",
    "# You do not need to mess with the code for the definition of tellStory or any of the earlier supporting\n",
    "# functions. The original madlib string is already placed in a file jungle.txt, that is in this format as an\n",
    "# example. With the Idle editor, write another madlib format string into a file myMadlib.txt. If you earlier\n",
    "# created a file myMadlib.py, then you can easily extract the story from there (without the quotes around it).\n",
    "# Test your program both with jungle.txt and your new madlib story file.\n",
    "\n",
    "\n",
    "\"\"\"\n",
    "madlib2.py\n",
    "Interactive display of a mad lib, which is provided as a Python format string,\n",
    "with all the cues being dictionary formats, in the form {cue}.\n",
    "In this version, the cues are extracted from the story automatically,\n",
    "and the user is prompted for the replacements.\n",
    "Original mad lib adapted from code of Kirby Urner\n",
    "\"\"\"\n",
    "def getKeys(formatString): # change: returns a set\n",
    "    '''formatString is a format string with embedded dictionary keys.\n",
    "    Return a set containing all the keys from the format string.'''\n",
    "    keyList = list()\n",
    "    end = 0\n",
    "    repetitions = formatString.count('{')\n",
    "    for i in range(repetitions):\n",
    "        start = formatString.find('{', end) + 1\n",
    "        end = formatString.find('}', start)\n",
    "        key = formatString[start : end]\n",
    "        keyList.append(key) # may add duplicates\n",
    "    return set(keyList) # removes duplicates: no duplicates in a set\n",
    "\n",
    "def addPick(cue, dictionary): # from madlib.py\n",
    "    '''Prompt the user and add one cue to the dictionary.'''\n",
    "    prompt = 'Enter an example for ' + cue + ': '\n",
    "    dictionary[cue] = input(prompt)\n",
    "\n",
    "def getUserPicks(cues):\n",
    "    '''Loop through the collection of cue keys and get user choices.\n",
    "    Return the resulting dictionary.\n",
    "    '''\n",
    "    userPicks = dict()\n",
    "    for cue in cues:\n",
    "        addPick(cue, userPicks)\n",
    "    return userPicks\n",
    "def tellStory(story):\n",
    "    '''story is a format string with Python dictionary references embedded,\n",
    "    in the form {cue}. Prompt the user for the mad lib substitutions\n",
    "    and then print the resulting story with the substitutions.\n",
    "    '''\n",
    "    cues = getKeys(story)\n",
    "    userPicks = getUserPicks(cues)\n",
    "    print(story.format(**userPicks))\n",
    "\n",
    "def main():\n",
    "    file_name = input('please enter name of storyfile: ')\n",
    "    file = open(file_name, 'r')\n",
    "    originalStory = file.read()\n",
    "    file.close()\n",
    "    tellStory(originalStory)\n",
    "    \n",
    "main()"
   ]
  },
  {
   "cell_type": "code",
   "execution_count": 45,
   "id": "9061c4d5",
   "metadata": {},
   "outputs": [
    {
     "name": "stdout",
     "output_type": "stream",
     "text": [
      "please enter your credit point: 123\n",
      "you do not qualify for graduation\n"
     ]
    }
   ],
   "source": [
    "# Exercise 3.1.4.1. Write a program, graduate.py, that prompts students for how many credits they\n",
    "# have. Print whether of not they have enough credits for graduation. (At Loyola University Chicago 128\n",
    "# credits are needed for graduation.)\n",
    "\n",
    "credits = input(\"please enter your credit point: \")\n",
    "transitive_verb = 'qualify' if int(credits) >= 128\\\n",
    "else 'do not qualify'\n",
    "\n",
    "print(f'you {transitive_verb} for graduation')"
   ]
  },
  {
   "cell_type": "code",
   "execution_count": 48,
   "id": "1ad88f11",
   "metadata": {},
   "outputs": [
    {
     "name": "stdout",
     "output_type": "stream",
     "text": [
      "please enter a number: 283\n",
      "positive\n"
     ]
    }
   ],
   "source": [
    "# Exercise 3.1.5.2. Write a program sign.py to ask the user for a number. Print out which category\n",
    "# the number is in: ’positive’, ’negative’, or ’zero’.\n",
    "\n",
    "num = input('please enter a number: ')\n",
    "\n",
    "if int(num) > 0:\n",
    "    print('positive')\n",
    "elif int(num) < 0:\n",
    "    print('negative')\n",
    "else:\n",
    "    print('zero')"
   ]
  },
  {
   "cell_type": "code",
   "execution_count": 10,
   "id": "b4f30123",
   "metadata": {},
   "outputs": [],
   "source": [
    "# Exercise 3.2.0.2. a. Write a program chooseButton3.py, modifying chooseButton2.py. Look at the\n",
    "# format of the list buttonSetup, and extend it so there is a larger choice of buttons and colors. Add at least\n",
    "# one button and color.\n",
    "# b. Further extend the program chooseButton3.py by adding some further graphical object shape to\n",
    "# the picture, and extend the list shapePairs, so they can all be interactively colored.\n",
    "\n",
    "'''Make a choice of colors via mouse clicks in Rectangles --\n",
    "Demonstrate loops using lists of tuples of data.'''\n",
    "\n",
    "from graphics import *\n",
    "\n",
    "def isBetween(x, end1, end2):\n",
    "    '''Return True if x is between the ends or equal to either.\n",
    "    The ends do not need to be in increasing order.'''\n",
    "    return end1 <= x <= end2 or end2 <= x <= end1\n",
    "\n",
    "def isInside(point, rect):\n",
    "    '''Return True if the point is inside the Rectangle rect.'''\n",
    "    pt1 = rect.getP1()\n",
    "    pt2 = rect.getP2()\n",
    "    return isBetween(point.getX(), pt1.getX(), pt2.getX()) and \\\n",
    "    isBetween(point.getY(), pt1.getY(), pt2.getY())\n",
    "\n",
    "def makeColoredRect(corner, width, height, color, win):\n",
    "    ''' Return a Rectangle drawn in win with the upper left corner\n",
    "    and color specified.'''\n",
    "    corner2 = corner.clone()\n",
    "    corner2.move(width, -height)\n",
    "    rect = Rectangle(corner, corner2)\n",
    "    rect.setFill(color)\n",
    "    rect.draw(win)\n",
    "    return rect\n",
    "\n",
    "def getChoice(choicePairs, default, win): #NEW, discussed above\n",
    "    '''Given a list of tuples (rectangle, choice), return the choice\n",
    "    that goes with the rectangle in win where the mouse gets clicked,\n",
    "    or return default if the click is in none of the rectangles.'''\n",
    "    point = win.getMouse()\n",
    "    for (rectangle, choice) in choicePairs:\n",
    "        if isInside(point, rectangle):\n",
    "            return choice\n",
    "    return default\n",
    "\n",
    "def main():\n",
    "    winWidth = 400\n",
    "    winHeight = 400\n",
    "    win = GraphWin('Pick Colors', winWidth, winHeight)\n",
    "    win.setCoords(0, 0, winWidth, winHeight)\n",
    "    #NEW, shown in the discussion above\n",
    "    choicePairs = list() # elements (button rectangle, color)\n",
    "    buttonSetup = [(310, 350, 'red'), (310, 310, 'yellow'), (310, 270, 'blue'), (310, 230, 'green')]\n",
    "\n",
    "    for (x, y, color) in buttonSetup:\n",
    "        button = makeColoredRect(Point(x, y), 80, 30, color, win)\n",
    "        choicePairs.append((button, color))\n",
    "            \n",
    "    house = makeColoredRect(Point(60, 200), 180, 150, 'gray', win)\n",
    "    door = makeColoredRect(Point(90, 150), 40, 100, 'white', win)\n",
    "    roof = Polygon(Point(50, 200), Point(250, 200), Point(150, 300))\n",
    "    window = makeColoredRect(Point(130, 150), 40, 40, 'lightblue', win)\n",
    "    roof.setFill('black')\n",
    "    roof.draw(win)\n",
    "    #NEW started in the discussion above.\n",
    "    shapePairs = [(house, 'house'), (door, 'door'), (roof, 'roof'), (window, 'roof')]\n",
    "    msg = Text(Point(winWidth/2, 375),'')\n",
    "    msg.draw(win)\n",
    "    for (shape, description) in shapePairs:\n",
    "        prompt = 'Click to choose a ' + description + ' color.'\n",
    "        msg.setText(prompt)\n",
    "        color = getChoice(choicePairs, 'white', win)\n",
    "        shape.setFill(color)\n",
    "    msg.setText('Click anywhere to quit.')\n",
    "    win.getMouse()\n",
    "    win.close()\n",
    "\n",
    "main()"
   ]
  },
  {
   "cell_type": "code",
   "execution_count": 1,
   "id": "a422b4cf",
   "metadata": {},
   "outputs": [
    {
     "name": "stdout",
     "output_type": "stream",
     "text": [
      "Enter an example for city: lome\n",
      "Enter an example for animal: lion\n",
      "Enter an example for food: tomatoes\n",
      "\n",
      "    Once upon a time, deep in an ancient jungle,\n",
      "    there lived a lion. This lion\n",
      "    liked to eat tomatoes, but the jungle had\n",
      "    very little tomatoes to offer. One day, an\n",
      "    explorer found the lion and discovered\n",
      "    it liked tomatoes. The explorer took the\n",
      "    lion back to lome, where it could\n",
      "    eat as much tomatoes as it wanted. However,\n",
      "    the lion became homesick, so the\n",
      "    explorer brought it back to the jungle,\n",
      "    leaving a large supply of tomatoes.\n",
      "    The End\n",
      "    \n"
     ]
    }
   ],
   "source": [
    "# Exercise 3.3.4.4. ** Write a program madlib4.py that modifies the getKeys method of madlib2.py\n",
    "# to use a while loop. (This is not an animation program, but this section is where you have had the most\n",
    "# experience with while loops!)\n",
    "\n",
    "\"\"\"\n",
    "madlib2.py\n",
    "Interactive display of a mad lib, which is provided as a Python format string,\n",
    "with all the cues being dictionary formats, in the form {cue}.\n",
    "In this version, the cues are extracted from the story automatically,\n",
    "and the user is prompted for the replacements.\n",
    "Original mad lib adapted from code of Kirby Urner\n",
    "\"\"\"\n",
    "def getKeys(formatString): # change: returns a set\n",
    "    '''formatString is a format string with embedded dictionary keys.\n",
    "    Return a set containing all the keys from the format string.'''\n",
    "    keyList = list()\n",
    "    end = 0\n",
    "    repetitions = formatString.count('{')\n",
    "    i = 0\n",
    "    \n",
    "    while i < repetitions:\n",
    "        start = formatString.find('{', end) + 1\n",
    "        end = formatString.find('}', start)\n",
    "        key = formatString[start : end]\n",
    "        keyList.append(key) # may add duplicates\n",
    "        i += 1\n",
    "    return set(keyList) # removes duplicates: no duplicates in a set\n",
    "\n",
    "def addPick(cue, dictionary): # from madlib.py\n",
    "    '''Prompt the user and add one cue to the dictionary.'''\n",
    "    prompt = 'Enter an example for ' + cue + ': '\n",
    "    dictionary[cue] = input(prompt)\n",
    "\n",
    "def getUserPicks(cues):\n",
    "    '''Loop through the collection of cue keys and get user choices.\n",
    "    Return the resulting dictionary.\n",
    "    '''\n",
    "    userPicks = dict()\n",
    "    for cue in cues:\n",
    "        addPick(cue, userPicks)\n",
    "    return userPicks\n",
    "def tellStory(story):\n",
    "    '''story is a format string with Python dictionary references embedded,\n",
    "    in the form {cue}. Prompt the user for the mad lib substitutions\n",
    "    and then print the resulting story with the substitutions.\n",
    "    '''\n",
    "    cues = getKeys(story)\n",
    "    userPicks = getUserPicks(cues)\n",
    "    print(story.format(**userPicks))\n",
    "\n",
    "def main():\n",
    "    originalStory = '''\n",
    "    Once upon a time, deep in an ancient jungle,\n",
    "    there lived a {animal}. This {animal}\n",
    "    liked to eat {food}, but the jungle had\n",
    "    very little {food} to offer. One day, an\n",
    "    explorer found the {animal} and discovered\n",
    "    it liked {food}. The explorer took the\n",
    "    {animal} back to {city}, where it could\n",
    "    eat as much {food} as it wanted. However,\n",
    "    the {animal} became homesick, so the\n",
    "    explorer brought it back to the jungle,\n",
    "    leaving a large supply of {food}.\n",
    "    The End\n",
    "    '''\n",
    "    tellStory(originalStory)\n",
    "    \n",
    "main()"
   ]
  }
 ],
 "metadata": {
  "kernelspec": {
   "display_name": "Python 3 (ipykernel)",
   "language": "python",
   "name": "python3"
  },
  "language_info": {
   "codemirror_mode": {
    "name": "ipython",
    "version": 3
   },
   "file_extension": ".py",
   "mimetype": "text/x-python",
   "name": "python",
   "nbconvert_exporter": "python",
   "pygments_lexer": "ipython3",
   "version": "3.10.9"
  }
 },
 "nbformat": 4,
 "nbformat_minor": 5
}
